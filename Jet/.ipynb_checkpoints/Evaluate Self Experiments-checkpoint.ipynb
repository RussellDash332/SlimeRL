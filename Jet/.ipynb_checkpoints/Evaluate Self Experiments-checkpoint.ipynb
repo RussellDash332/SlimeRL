{
 "cells": [
  {
   "cell_type": "code",
   "execution_count": 2,
   "metadata": {},
   "outputs": [],
   "source": [
    "import os\n",
    "import gym\n",
    "import slimevolleygym\n",
    "import numpy as np\n",
    "\n",
    "from stable_baselines.ppo1 import PPO1\n",
    "from stable_baselines.common.policies import MlpPolicy\n",
    "from stable_baselines import logger\n",
    "from stable_baselines.common.callbacks import EvalCallback\n",
    "from stable_baselines.bench import Monitor\n",
    "\n",
    "from model import BnnPolicy"
   ]
  },
  {
   "cell_type": "code",
   "execution_count": 31,
   "metadata": {},
   "outputs": [],
   "source": [
    "import gym\n",
    "import slimevolleygym\n",
    "import tqdm.notebook as tqdm\n",
    "\n",
    "def evaluate(dnn, bnn, n=100):\n",
    "    env = gym.make(\"SlimeVolley-v0\")\n",
    "    dnn_scores=[]\n",
    "    bnn_scores=[]\n",
    "    \n",
    "    for i in tqdm.tqdm(range(n)):\n",
    "        obs1 = env.reset()\n",
    "        obs2 = obs1 # both sides always see the same initial observation.\n",
    "\n",
    "        done = False\n",
    "        total_reward = 0\n",
    "\n",
    "        while not done:\n",
    "\n",
    "            action1, _ = dnn.predict(obs1)\n",
    "            action2, _ = bnn.predict(obs2)\n",
    "\n",
    "            obs1, reward, done, info = env.step(action1, action2) # extra argument\n",
    "            obs2 = info['otherObs']\n",
    "\n",
    "            total_reward += reward\n",
    "            # env.render()\n",
    "        dnn_scores.append(total_reward)\n",
    "        bnn_scores.append(-total_reward)\n",
    "        \n",
    "    dnn_score = np.mean(dnn_scores)\n",
    "    bnn_score = np.mean(bnn_scores)\n",
    "    \n",
    "    dnn_var = np.std(dnn_scores)\n",
    "    bnn_var = np.std(bnn_scores)\n",
    "    \n",
    "    print(f\"DNN: {dnn_score} +- {dnn_var:.3f}\")\n",
    "    print(f\"BNN: {bnn_score} +- {bnn_var:.3f}\")\n",
    "        \n",
    "    return dnn_score, bnn_score, dnn_var, bnn_var"
   ]
  },
  {
   "cell_type": "code",
   "execution_count": null,
   "metadata": {},
   "outputs": [],
   "source": [
    "dnn = PPO1.load(os.path.join(\"exp/self/ppo-dnn\", \"final_model\"))\n",
    "bnn = PPO1.load(os.path.join(\"exp/self/ppo-bnn\", \"final_model\"))"
   ]
  },
  {
   "cell_type": "code",
   "execution_count": 33,
   "metadata": {},
   "outputs": [
    {
     "data": {
      "application/vnd.jupyter.widget-view+json": {
       "model_id": "0d6a7b488fea492a8fc629def0136c89",
       "version_major": 2,
       "version_minor": 0
      },
      "text/plain": [
       "HBox(children=(FloatProgress(value=0.0, max=1000.0), HTML(value='')))"
      ]
     },
     "metadata": {},
     "output_type": "display_data"
    },
    {
     "name": "stdout",
     "output_type": "stream",
     "text": [
      "\n",
      "DNN: -4.031 += 1.279\n",
      "BNN: 4.031 += 1.279\n"
     ]
    }
   ],
   "source": [
    "dnn_score, bnn_score, dnn_var, bnn_var = evaluate(dnn, bnn, n=1000)"
   ]
  },
  {
   "cell_type": "code",
   "execution_count": null,
   "metadata": {},
   "outputs": [],
   "source": []
  }
 ],
 "metadata": {
  "kernelspec": {
   "display_name": "Python (slime-rl)",
   "language": "python",
   "name": "slime-rl"
  },
  "language_info": {
   "codemirror_mode": {
    "name": "ipython",
    "version": 3
   },
   "file_extension": ".py",
   "mimetype": "text/x-python",
   "name": "python",
   "nbconvert_exporter": "python",
   "pygments_lexer": "ipython3",
   "version": "3.7.8"
  }
 },
 "nbformat": 4,
 "nbformat_minor": 4
}
