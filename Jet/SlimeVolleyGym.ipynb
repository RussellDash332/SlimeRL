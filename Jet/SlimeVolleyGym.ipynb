{
 "cells": [
  {
   "cell_type": "code",
   "execution_count": 1,
   "metadata": {},
   "outputs": [
    {
     "name": "stdout",
     "output_type": "stream",
     "text": [
      "score: -4\n"
     ]
    }
   ],
   "source": [
    "import numpy as np\n",
    "import gym\n",
    "import slimevolleygym\n",
    "\n",
    "env = gym.make(\"SlimeVolley-v0\")\n",
    "\n",
    "obs = env.reset()\n",
    "done = False\n",
    "total_reward = 0\n",
    "\n",
    "while not done:\n",
    "    action = env.action_space.sample()\n",
    "    obs, reward, done, info = env.step(action)\n",
    "    total_reward += reward\n",
    "    env.render()\n",
    "env.exit()\n",
    "\n",
    "print(\"score:\", total_reward)"
   ]
  },
  {
   "cell_type": "code",
<<<<<<< HEAD:SlimeVolleyGym.ipynb
   "execution_count": 5,
   "metadata": {},
   "outputs": [
    {
     "name": "stdout",
     "output_type": "stream",
     "text": [
      "/Users/stephen/anaconda3/envs/slime-rl/bin/pip\r\n"
     ]
    }
   ],
   "source": [
    "! which pip"
   ]
  },
  {
   "cell_type": "code",
=======
>>>>>>> 7bc5d879ddfbcb34a0fe5730939c736778cd9380:Jet/SlimeVolleyGym.ipynb
   "execution_count": 2,
   "metadata": {},
   "outputs": [
    {
     "name": "stdout",
     "output_type": "stream",
     "text": [
      "policy1's score: -1\n",
      "policy2's score: 1\n"
     ]
    }
   ],
   "source": [
    "obs1 = env.reset()\n",
    "obs2 = obs1 # both sides always see the same initial observation.\n",
    "\n",
    "done = False\n",
    "total_reward = 0\n",
    "\n",
    "while not done:\n",
    "\n",
    "    action1 = env.action_space.sample()\n",
    "    action2 = env.action_space.sample()\n",
    "\n",
    "    obs1, reward, done, info = env.step(action1, action2) # extra argument\n",
    "    obs2 = info['otherObs']\n",
    "\n",
    "    total_reward += reward\n",
    "    env.render()\n",
    "\n",
    "print(\"policy1's score:\", total_reward)\n",
    "print(\"policy2's score:\", -total_reward)"
   ]
  },
  {
   "cell_type": "code",
   "execution_count": 5,
   "metadata": {},
   "outputs": [
    {
     "data": {
      "text/plain": [
       "-1"
      ]
     },
     "execution_count": 5,
     "metadata": {},
     "output_type": "execute_result"
    }
   ],
   "source": [
    "reward"
   ]
  }
 ],
 "metadata": {
  "kernelspec": {
   "display_name": "Python 3",
   "language": "python",
   "name": "python3"
  },
  "language_info": {
   "codemirror_mode": {
    "name": "ipython",
    "version": 3
   },
   "file_extension": ".py",
   "mimetype": "text/x-python",
   "name": "python",
   "nbconvert_exporter": "python",
   "pygments_lexer": "ipython3",
   "version": "3.7.9"
  }
 },
 "nbformat": 4,
 "nbformat_minor": 4
}
