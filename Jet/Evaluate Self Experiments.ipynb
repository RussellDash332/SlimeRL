{
 "cells": [
  {
   "cell_type": "code",
   "execution_count": 37,
   "metadata": {},
   "outputs": [],
   "source": [
    "import os\n",
    "import gym\n",
    "import slimevolleygym\n",
    "import numpy as np\n",
    "\n",
    "from stable_baselines.ppo1 import PPO1\n",
    "from stable_baselines import TRPO\n",
    "from stable_baselines.common.policies import MlpPolicy\n",
    "from stable_baselines import logger\n",
    "from stable_baselines.common.callbacks import EvalCallback\n",
    "from stable_baselines.bench import Monitor\n",
    "\n",
    "from model import BnnPolicy"
   ]
  },
  {
   "cell_type": "code",
   "execution_count": 44,
   "metadata": {},
   "outputs": [],
   "source": [
    "import gym\n",
    "import slimevolleygym\n",
    "import tqdm.notebook as tqdm\n",
    "\n",
    "def evaluate(p1, p2, n=100):\n",
    "    env = gym.make(\"SlimeVolley-v0\")\n",
    "    p1_scores=[]\n",
    "    p2_scores=[]\n",
    "    \n",
    "    for i in tqdm.tqdm(range(n)):\n",
    "        obs1 = env.reset()\n",
    "        obs2 = obs1 # both sides always see the same initial observation.\n",
    "\n",
    "        done = False\n",
    "        total_reward = 0\n",
    "\n",
    "        while not done:\n",
    "\n",
    "            action1, _ = p1.predict(obs1)\n",
    "            action2, _ = p2.predict(obs2)\n",
    "\n",
    "            obs1, reward, done, info = env.step(action1, action2) # extra argument\n",
    "            obs2 = info['otherObs']\n",
    "\n",
    "            total_reward += reward\n",
    "            # env.render()\n",
    "        p1_scores.append(total_reward)\n",
    "        p2_scores.append(-total_reward)\n",
    "        \n",
    "    p1_score = np.mean(p1_scores)\n",
    "    p2_score = np.mean(p2_scores)\n",
    "    \n",
    "    p1_var = np.std(p1_scores)\n",
    "    p2_var = np.std(p2_scores)\n",
    "    \n",
    "    print(f\"Player 1: {p1_score} +- {p1_var:.3f}\")\n",
    "    print(f\"Player 2: {p2_score} +- {p2_var:.3f}\")\n",
    "        \n",
    "    return p1_score, p2_score, p1_var, p2_var"
   ]
  },
  {
   "cell_type": "code",
   "execution_count": 39,
   "metadata": {},
   "outputs": [
    {
     "name": "stdout",
     "output_type": "stream",
     "text": [
      "Loading a model without an environment, this model cannot be trained until it has a valid environment.\n",
      "Loading a model without an environment, this model cannot be trained until it has a valid environment.\n"
     ]
    }
   ],
   "source": [
    "ppo_dnn = PPO1.load(os.path.join(\"exp/self/ppo-dnn\", \"final_model\"))\n",
    "ppo_bnn = PPO1.load(os.path.join(\"exp/self/ppo-bnn\", \"final_model\"))"
   ]
  },
  {
   "cell_type": "code",
   "execution_count": 33,
   "metadata": {},
   "outputs": [
    {
     "data": {
      "application/vnd.jupyter.widget-view+json": {
       "model_id": "0d6a7b488fea492a8fc629def0136c89",
       "version_major": 2,
       "version_minor": 0
      },
      "text/plain": [
       "HBox(children=(FloatProgress(value=0.0, max=1000.0), HTML(value='')))"
      ]
     },
     "metadata": {},
     "output_type": "display_data"
    },
    {
     "name": "stdout",
     "output_type": "stream",
     "text": [
      "\n",
      "DNN: -4.031 += 1.279\n",
      "BNN: 4.031 += 1.279\n"
     ]
    }
   ],
   "source": [
    "dnn_score, bnn_score, dnn_var, bnn_var = evaluate(dnn, bnn, n=1000)"
   ]
  },
  {
   "cell_type": "code",
   "execution_count": 36,
   "metadata": {},
   "outputs": [
    {
     "data": {
      "application/vnd.jupyter.widget-view+json": {
       "model_id": "8172994e28914bc5a7047984f22e3b05",
       "version_major": 2,
       "version_minor": 0
      },
      "text/plain": [
       "HBox(children=(FloatProgress(value=0.0), HTML(value='')))"
      ]
     },
     "metadata": {},
     "output_type": "display_data"
    },
    {
     "name": "stdout",
     "output_type": "stream",
     "text": [
      "\n",
      "BNN: 4.27 +- 1.112\n",
      "DNN: -4.27 +- 1.112\n"
     ]
    }
   ],
   "source": [
    "bnn_score, dnn_score, bnn_var, dnn_var = evaluate(bnn, dnn, n=100)"
   ]
  },
  {
   "cell_type": "code",
   "execution_count": 45,
   "metadata": {},
   "outputs": [
    {
     "name": "stdout",
     "output_type": "stream",
     "text": [
      "Loading a model without an environment, this model cannot be trained until it has a valid environment.\n"
     ]
    }
   ],
   "source": [
    "trpo_dnn = TRPO.load(os.path.join(\"exp/self/trpo-dnn\", \"final_model\"))"
   ]
  },
  {
   "cell_type": "code",
   "execution_count": 47,
   "metadata": {},
   "outputs": [
    {
     "data": {
      "application/vnd.jupyter.widget-view+json": {
       "model_id": "a697b38014ec484abd272da2d0234034",
       "version_major": 2,
       "version_minor": 0
      },
      "text/plain": [
       "HBox(children=(FloatProgress(value=0.0), HTML(value='')))"
      ]
     },
     "metadata": {},
     "output_type": "display_data"
    },
    {
     "name": "stdout",
     "output_type": "stream",
     "text": [
      "\n",
      "Player 1: -0.57 +- 2.688\n",
      "Player 2: 0.57 +- 2.688\n"
     ]
    },
    {
     "data": {
      "application/vnd.jupyter.widget-view+json": {
       "model_id": "1aff16e68ac64ff7902bc265509aaf59",
       "version_major": 2,
       "version_minor": 0
      },
      "text/plain": [
       "HBox(children=(FloatProgress(value=0.0), HTML(value='')))"
      ]
     },
     "metadata": {},
     "output_type": "display_data"
    },
    {
     "name": "stdout",
     "output_type": "stream",
     "text": [
      "\n",
      "Player 1: -4.25 +- 1.081\n",
      "Player 2: 4.25 +- 1.081\n"
     ]
    },
    {
     "data": {
      "text/plain": [
       "(-4.25, 4.25, 1.0805091392487154, 1.0805091392487154)"
      ]
     },
     "execution_count": 47,
     "metadata": {},
     "output_type": "execute_result"
    }
   ],
   "source": [
    "evaluate(trpo_dnn, ppo_dnn, n=100)\n",
    "evaluate(trpo_dnn, ppo_bnn, n=100)"
   ]
  }
 ],
 "metadata": {
  "kernelspec": {
   "display_name": "Python (slime-rl)",
   "language": "python",
   "name": "slime-rl"
  },
  "language_info": {
   "codemirror_mode": {
    "name": "ipython",
    "version": 3
   },
   "file_extension": ".py",
   "mimetype": "text/x-python",
   "name": "python",
   "nbconvert_exporter": "python",
   "pygments_lexer": "ipython3",
   "version": "3.7.8"
  }
 },
 "nbformat": 4,
 "nbformat_minor": 4
}
