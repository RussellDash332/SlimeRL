{
 "cells": [
  {
   "cell_type": "code",
   "execution_count": 145,
   "metadata": {},
   "outputs": [
    {
     "data": {
      "text/plain": [
       "((898, 64), (898, 10))"
      ]
     },
     "execution_count": 145,
     "metadata": {},
     "output_type": "execute_result"
    }
   ],
   "source": [
    "import numpy as np\n",
    "import matplotlib.pyplot as plt\n",
    "from sklearn import datasets, svm, metrics\n",
    "from sklearn.model_selection import train_test_split\n",
    "\n",
    "digits = datasets.load_digits()\n",
    "n_samples = len(digits.images)\n",
    "data = digits.images.reshape((n_samples, -1))\n",
    "\n",
    "NUM_CLASSES = 10\n",
    "y = keras.utils.to_categorical(digits.target, num_classes=NUM_CLASSES)\n",
    "X_train, X_test, y_train, y_test = train_test_split(\n",
    "    data, y, test_size=0.5, shuffle=False)\n",
    "\n",
    "X_train.shape, y_train.shape"
   ]
  },
  {
   "cell_type": "code",
   "execution_count": 146,
   "metadata": {},
   "outputs": [],
   "source": [
    "# samples = 20\n",
    "# X_train = X_train[:samples,:]\n",
    "# y_train = y_train[:samples,:]\n",
    "\n",
    "# X_train.shape, y_train.shape"
   ]
  },
  {
   "cell_type": "code",
   "execution_count": 147,
   "metadata": {},
   "outputs": [
    {
     "name": "stdout",
     "output_type": "stream",
     "text": [
      "Train on 898 samples\n",
      "Epoch 1/10\n",
      "898/898 [==============================] - 1s 1ms/sample - loss: 3.2472 - acc: 0.3630\n",
      "Epoch 2/10\n",
      "898/898 [==============================] - 0s 124us/sample - loss: 0.5353 - acc: 0.8307\n",
      "Epoch 3/10\n",
      "898/898 [==============================] - 0s 115us/sample - loss: 0.2795 - acc: 0.9220\n",
      "Epoch 4/10\n",
      "898/898 [==============================] - 0s 113us/sample - loss: 0.1732 - acc: 0.9432\n",
      "Epoch 5/10\n",
      "898/898 [==============================] - 0s 129us/sample - loss: 0.1309 - acc: 0.9577\n",
      "Epoch 6/10\n",
      "898/898 [==============================] - 0s 113us/sample - loss: 0.1053 - acc: 0.9688\n",
      "Epoch 7/10\n",
      "898/898 [==============================] - 0s 110us/sample - loss: 0.0750 - acc: 0.9822\n",
      "Epoch 8/10\n",
      "898/898 [==============================] - 0s 109us/sample - loss: 0.0859 - acc: 0.9766\n",
      "Epoch 9/10\n",
      "898/898 [==============================] - 0s 112us/sample - loss: 0.0548 - acc: 0.9900\n",
      "Epoch 10/10\n",
      "898/898 [==============================] - 0s 111us/sample - loss: 0.0396 - acc: 0.9944\n",
      "899/899 [==============================] - 1s 1ms/sample - loss: 0.2803 - acc: 0.9221\n"
     ]
    },
    {
     "data": {
      "text/plain": [
       "[0.2803216351525603, 0.9221357]"
      ]
     },
     "execution_count": 147,
     "metadata": {},
     "output_type": "execute_result"
    }
   ],
   "source": [
    "import tensorflow as tf\n",
    "from tensorflow.keras.models import Sequential\n",
    "from tensorflow.keras.layers import Dense, Input\n",
    "\n",
    "dnn = keras.Sequential([\n",
    "    keras.layers.Dense(128, input_shape=(64,), activation='relu'),\n",
    "    keras.layers.Dense(10, activation='softmax')\n",
    "])\n",
    "dnn.compile(optimizer='adam',\n",
    "              loss='categorical_crossentropy',\n",
    "              metrics=['accuracy'])\n",
    "\n",
    "dnn.fit(X_train, y_train, epochs=10)\n",
    "dnn.evaluate(X_test, y_test)"
   ]
  },
  {
   "cell_type": "code",
   "execution_count": 197,
   "metadata": {},
   "outputs": [],
   "source": [
    "x_train = X_train\n",
    "y_train = y_train"
   ]
  },
  {
   "cell_type": "code",
   "execution_count": 205,
   "metadata": {},
   "outputs": [
    {
     "name": "stdout",
     "output_type": "stream",
     "text": [
      "Train on 898 samples\n",
      "Epoch 1/10\n",
      "898/898 [==============================] - 2s 2ms/sample - loss: 31.9353 - acc: 0.1971\n",
      "Epoch 2/10\n",
      "898/898 [==============================] - 0s 229us/sample - loss: 28.8003 - acc: 0.4788\n",
      "Epoch 3/10\n",
      "898/898 [==============================] - 0s 220us/sample - loss: 27.8399 - acc: 0.6069\n",
      "Epoch 4/10\n",
      "898/898 [==============================] - 0s 227us/sample - loss: 27.2795 - acc: 0.7027\n",
      "Epoch 5/10\n",
      "898/898 [==============================] - 0s 226us/sample - loss: 26.9656 - acc: 0.7595\n",
      "Epoch 6/10\n",
      "898/898 [==============================] - 0s 230us/sample - loss: 26.5835 - acc: 0.8051\n",
      "Epoch 7/10\n",
      "898/898 [==============================] - 0s 229us/sample - loss: 26.4502 - acc: 0.8140\n",
      "Epoch 8/10\n",
      "898/898 [==============================] - 0s 227us/sample - loss: 26.2369 - acc: 0.8285\n",
      "Epoch 9/10\n",
      "898/898 [==============================] - 0s 226us/sample - loss: 25.9773 - acc: 0.8486\n",
      "Epoch 10/10\n",
      "898/898 [==============================] - 0s 235us/sample - loss: 25.7769 - acc: 0.8619\n"
     ]
    },
    {
     "data": {
      "text/plain": [
       "<tensorflow.python.keras.callbacks.History at 0x1af8fc87508>"
      ]
     },
     "execution_count": 205,
     "metadata": {},
     "output_type": "execute_result"
    }
   ],
   "source": [
    "kernel_divergence_fn=lambda q, p, _: tfp.distributions.kl_divergence(q, p) / (x_train.shape[0] *1.0)\n",
    "\n",
    "model_vi = Sequential()\n",
    "model_vi.add(tfp.layers.DenseFlipout(128, input_shape=(64,), activation = 'relu', kernel_divergence_fn=kernel_divergence_fn))\n",
    "model_vi.add(tfp.layers.DenseFlipout(10, activation = 'softmax', kernel_divergence_fn=kernel_divergence_fn))\n",
    "\n",
    "model_vi.compile(loss='categorical_crossentropy', optimizer=\"adam\", metrics=['accuracy'])\n",
    "model_vi.fit(x_train, y_train, epochs=10)"
   ]
  }
 ],
 "metadata": {
  "kernelspec": {
   "display_name": "Python (slime-rl)",
   "language": "python",
   "name": "slime-rl"
  },
  "language_info": {
   "codemirror_mode": {
    "name": "ipython",
    "version": 3
   },
   "file_extension": ".py",
   "mimetype": "text/x-python",
   "name": "python",
   "nbconvert_exporter": "python",
   "pygments_lexer": "ipython3",
   "version": "3.7.8"
  }
 },
 "nbformat": 4,
 "nbformat_minor": 4
}
