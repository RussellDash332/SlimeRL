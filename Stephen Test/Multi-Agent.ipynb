{
 "cells": [
  {
   "cell_type": "code",
   "execution_count": 1,
   "metadata": {},
   "outputs": [
    {
     "ename": "NameError",
     "evalue": "name 'my_policy' is not defined",
     "output_type": "error",
     "traceback": [
      "\u001b[0;31m---------------------------------------------------------------------------\u001b[0m",
      "\u001b[0;31mNameError\u001b[0m                                 Traceback (most recent call last)",
      "\u001b[0;32m<ipython-input-1-277a5dba7b84>\u001b[0m in \u001b[0;36m<module>\u001b[0;34m\u001b[0m\n\u001b[1;32m      9\u001b[0m \u001b[0;34m\u001b[0m\u001b[0m\n\u001b[1;32m     10\u001b[0m \u001b[0;32mwhile\u001b[0m \u001b[0;32mnot\u001b[0m \u001b[0mdone\u001b[0m\u001b[0;34m:\u001b[0m\u001b[0;34m\u001b[0m\u001b[0;34m\u001b[0m\u001b[0m\n\u001b[0;32m---> 11\u001b[0;31m     \u001b[0maction\u001b[0m \u001b[0;34m=\u001b[0m \u001b[0mmy_policy\u001b[0m\u001b[0;34m(\u001b[0m\u001b[0mobs\u001b[0m\u001b[0;34m)\u001b[0m\u001b[0;34m\u001b[0m\u001b[0;34m\u001b[0m\u001b[0m\n\u001b[0m\u001b[1;32m     12\u001b[0m     \u001b[0mobs\u001b[0m\u001b[0;34m,\u001b[0m \u001b[0mreward\u001b[0m\u001b[0;34m,\u001b[0m \u001b[0mdone\u001b[0m\u001b[0;34m,\u001b[0m \u001b[0minfo\u001b[0m \u001b[0;34m=\u001b[0m \u001b[0menv\u001b[0m\u001b[0;34m.\u001b[0m\u001b[0mstep\u001b[0m\u001b[0;34m(\u001b[0m\u001b[0maction\u001b[0m\u001b[0;34m)\u001b[0m\u001b[0;34m\u001b[0m\u001b[0;34m\u001b[0m\u001b[0m\n\u001b[1;32m     13\u001b[0m     \u001b[0mtotal_reward\u001b[0m \u001b[0;34m+=\u001b[0m \u001b[0mreward\u001b[0m\u001b[0;34m\u001b[0m\u001b[0;34m\u001b[0m\u001b[0m\n",
      "\u001b[0;31mNameError\u001b[0m: name 'my_policy' is not defined"
     ]
    }
   ],
   "source": [
    "import gym\n",
    "import slimevolleygym\n",
    "\n",
    "env = gym.make(\"SlimeVolley-v0\")\n",
    "\n",
    "obs = env.reset()\n",
    "done = False\n",
    "total_reward = 0\n",
    "\n",
    "while not done:\n",
    "    action = my_policy(obs)\n",
    "    obs, reward, done, info = env.step(action)\n",
    "    total_reward += reward\n",
    "    env.render()\n",
    "\n",
    "print(\"score:\", total_reward)"
   ]
  },
  {
   "cell_type": "code",
   "execution_count": null,
   "metadata": {},
   "outputs": [],
   "source": [
    "obs1 = env.reset()\n",
    "obs2 = obs1 # both sides always see the same initial observation.\n",
    "\n",
    "done = False\n",
    "total_reward = 0\n",
    "\n",
    "while not done:\n",
    "\n",
    "    action1 = policy1(obs1)\n",
    "    action2 = policy2(obs2)\n",
    "\n",
    "    obs1, reward, done, info = env.step(action1, action2) # extra argument\n",
    "    obs2 = info['otherObs']\n",
    "\n",
    "    total_reward += reward\n",
    "    env.render()\n",
    "\n",
    "print(\"policy1's score:\", total_reward)\n",
    "print(\"policy2's score:\", -total_reward)\n",
    "\n",
    "def multiagent_rollout(env, policy_right, policy_left, render_mode=False):\n",
    "    \"\"\"\n",
    "    play one agent vs the other in modified gym-style loop.\n",
    "    important: returns the score from perspective of policy_right.\n",
    "    \"\"\"\n",
    "    obs_right = env.reset()\n",
    "    obs_left = obs_right # same observation at the very beginning for the other agent\n",
    "\n",
    "    done = False\n",
    "    total_reward = 0\n",
    "    t = 0\n",
    "\n",
    "    while not done:\n",
    "\n",
    "        action_right = policy_right.predict(obs_right)\n",
    "        action_left = policy_left.predict(obs_left)\n",
    "\n",
    "        # uses a 2nd (optional) parameter for step to put in the other action\n",
    "        # and returns the other observation in the 4th optional \"info\" param in gym's step()\n",
    "        obs_right, reward, done, info = env.step(action_right, action_left)\n",
    "        obs_left = info['otherObs']\n",
    "\n",
    "        total_reward += reward\n",
    "        t += 1\n",
    "\n",
    "        if render_mode:\n",
    "            env.render()\n",
    "\n",
    "    return total_reward, t"
   ]
  }
 ],
 "metadata": {
  "kernelspec": {
   "display_name": "Python (slime-rl)",
   "language": "python",
   "name": "slime-rl"
  },
  "language_info": {
   "codemirror_mode": {
    "name": "ipython",
    "version": 3
   },
   "file_extension": ".py",
   "mimetype": "text/x-python",
   "name": "python",
   "nbconvert_exporter": "python",
   "pygments_lexer": "ipython3",
   "version": "3.7.9"
  }
 },
 "nbformat": 4,
 "nbformat_minor": 4
}
